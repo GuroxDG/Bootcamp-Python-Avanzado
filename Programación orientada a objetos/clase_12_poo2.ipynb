{
 "cells": [
  {
   "cell_type": "markdown",
   "id": "584525ee",
   "metadata": {},
   "source": [
    "# Bootcamp Python Avanzado\n",
    "## Clase 12: Programación Orientada a Objetos Parte 2"
   ]
  },
  {
   "cell_type": "markdown",
   "id": "e7c813e6",
   "metadata": {},
   "source": [
    "## Magic Methods\n",
    "### `__init__`\n",
    "Nos permite inicializar un nuevo objeto."
   ]
  },
  {
   "cell_type": "code",
   "execution_count": 37,
   "id": "8fb46b1d",
   "metadata": {},
   "outputs": [
    {
     "name": "stdout",
     "output_type": "stream",
     "text": [
      "large\n",
      "['pepperoni', 'mushrooms']\n"
     ]
    }
   ],
   "source": [
    "class Pizza:\n",
    "    def __init__(self, size, toppings):\n",
    "        self.size = size\n",
    "        self.toppings = toppings\n",
    "\n",
    "# Now let's create a pizza\n",
    "my_pizza = Pizza('large', ['pepperoni', 'mushrooms'])\n",
    "\n",
    "print(my_pizza.size)  # This will print: large\n",
    "print(my_pizza.toppings)  # This will print: ['pepperoni', 'mushrooms']"
   ]
  },
  {
   "cell_type": "markdown",
   "id": "7b7988d4",
   "metadata": {},
   "source": [
    "### `__str__`\n",
    "Nos permite definir la descripción o representación de strings de nuestro objeto."
   ]
  },
  {
   "cell_type": "code",
   "execution_count": 38,
   "id": "e01b46ad",
   "metadata": {},
   "outputs": [
    {
     "name": "stdout",
     "output_type": "stream",
     "text": [
      "A large pizza with pepperoni, mushrooms\n"
     ]
    }
   ],
   "source": [
    "class Pizza:\n",
    "    def __init__(self, size, toppings):\n",
    "        self.size = size\n",
    "        self.toppings = toppings\n",
    "\n",
    "    def __str__(self):\n",
    "        return f\"A {self.size} pizza with {', '.join(self.toppings)}\"\n",
    "\n",
    "my_pizza = Pizza('large', ['pepperoni', 'mushrooms'])\n",
    "print(my_pizza)  # This will print: A large pizza with pepperoni, mushrooms"
   ]
  },
  {
   "cell_type": "markdown",
   "id": "aac695bb",
   "metadata": {},
   "source": [
    "### `__repr__`\n",
    "Nos permite crear una representación formal y detallada de la descripción de un objeto. Si `__str__`no es definida para un objeto automáticamente se toma `__repr__` para mostrar el objeto o convertirlo en cadena."
   ]
  },
  {
   "cell_type": "code",
   "execution_count": 39,
   "id": "9e467bb9",
   "metadata": {},
   "outputs": [
    {
     "name": "stdout",
     "output_type": "stream",
     "text": [
      "Pizza('large', ['pepperoni', 'mushrooms'])\n"
     ]
    }
   ],
   "source": [
    "class Pizza:\n",
    "    def __init__(self, size, toppings):\n",
    "        self.size = size\n",
    "        self.toppings = toppings\n",
    "\n",
    "    def __repr__(self):\n",
    "        return f\"Pizza('{self.size}', {self.toppings})\"\n",
    "\n",
    "my_pizza = Pizza('large', ['pepperoni', 'mushrooms'])\n",
    "print(repr(my_pizza))  # This will print: Pizza('large', ['pepperoni', 'mushrooms'])\n"
   ]
  },
  {
   "cell_type": "markdown",
   "id": "21117f85",
   "metadata": {},
   "source": [
    "### `__add__`\n",
    "Nos permite definir el comportamiento de nuestro objeto cuando llamamos el operador de suma `+`."
   ]
  },
  {
   "cell_type": "code",
   "execution_count": 40,
   "id": "0c219a5f",
   "metadata": {},
   "outputs": [
    {
     "name": "stdout",
     "output_type": "stream",
     "text": [
      "['pepperoni', 'mushrooms', 'olives', 'pineapple']\n"
     ]
    }
   ],
   "source": [
    "class Pizza:\n",
    "    def __init__(self, size, toppings):\n",
    "        self.size = size\n",
    "        self.toppings = toppings\n",
    "\n",
    "    def __add__(self, other):\n",
    "        if not isinstance(other, Pizza):\n",
    "            raise TypeError(\"You can only add another Pizza!\")\n",
    "        new_toppings = self.toppings + other.toppings\n",
    "        return Pizza(self.size, new_toppings)\n",
    "\n",
    "# Let's create two pizzas\n",
    "pizza1 = Pizza('large', ['pepperoni', 'mushrooms'])\n",
    "pizza2 = Pizza('large', ['olives', 'pineapple'])\n",
    "\n",
    "# And now let's \"add\" them\n",
    "combined_pizza = pizza1 + pizza2\n",
    "\n",
    "print(combined_pizza.toppings)  # This will print: ['pepperoni', 'mushrooms', 'olives', 'pineapple']"
   ]
  },
  {
   "cell_type": "markdown",
   "id": "381132fe",
   "metadata": {},
   "source": [
    "### `__len__`\n",
    "Nos permite definir que se retorna cuando llamamos la función `len()` con nuestro objeto."
   ]
  },
  {
   "cell_type": "code",
   "execution_count": 41,
   "id": "a9f2b6d9",
   "metadata": {},
   "outputs": [
    {
     "name": "stdout",
     "output_type": "stream",
     "text": [
      "3\n"
     ]
    }
   ],
   "source": [
    "class Pizza:\n",
    "    def __init__(self, size, toppings):\n",
    "        self.size = size\n",
    "        self.toppings = toppings\n",
    "\n",
    "    def __len__(self):\n",
    "        return len(self.toppings)\n",
    "\n",
    "# Let's create a pizza\n",
    "my_pizza = Pizza('large', ['pepperoni', 'mushrooms', 'olives'])\n",
    "\n",
    "print(len(my_pizza))  # This will print: 3"
   ]
  },
  {
   "cell_type": "markdown",
   "id": "4be23986",
   "metadata": {},
   "source": [
    "### `__iter__`\n",
    "Permite que nuestro objeto sea una iterable o sea puede ser usado en un ciclo `for`. Para hacer esto debemos definir tambien `__next__`, esta es usada para definir el valor a retornar en la siguiente iteración."
   ]
  },
  {
   "cell_type": "code",
   "execution_count": 42,
   "id": "7cadd537",
   "metadata": {},
   "outputs": [
    {
     "name": "stdout",
     "output_type": "stream",
     "text": [
      "pepperoni\n",
      "mushrooms\n",
      "olives\n"
     ]
    }
   ],
   "source": [
    "class Pizza:\n",
    "    def __init__(self, size, toppings):\n",
    "        self.size = size\n",
    "        self.toppings = toppings\n",
    "\n",
    "    def __iter__(self):\n",
    "        self.n = 0\n",
    "        return self\n",
    "\n",
    "    def __next__(self):\n",
    "        if self.n < len(self.toppings):\n",
    "            result = self.toppings[self.n]\n",
    "            self.n += 1\n",
    "            return result\n",
    "        else:\n",
    "            raise StopIteration\n",
    "\n",
    "# Let's create a pizza\n",
    "my_pizza = Pizza('large', ['pepperoni', 'mushrooms', 'olives'])\n",
    "\n",
    "# And now let's iterate over it\n",
    "for topping in my_pizza:\n",
    "    print(topping)\n"
   ]
  },
  {
   "cell_type": "markdown",
   "id": "d940f108",
   "metadata": {},
   "source": [
    "## Miembros Públicos, Protegidos y Privados\n",
    "### Ejemplo de Público"
   ]
  },
  {
   "cell_type": "code",
   "execution_count": 43,
   "id": "5684ea4c",
   "metadata": {},
   "outputs": [],
   "source": [
    "class Student:\n",
    "    schoolName = 'XYZ School' # class attribute\n",
    "\n",
    "    def __init__(self, name, age):\n",
    "        self.name=name # instance attribute\n",
    "        self.age=age # instance attribute"
   ]
  },
  {
   "cell_type": "code",
   "execution_count": 44,
   "id": "45fb5050",
   "metadata": {},
   "outputs": [
    {
     "name": "stdout",
     "output_type": "stream",
     "text": [
      "XYZ School\n",
      "Steve\n",
      "20\n"
     ]
    }
   ],
   "source": [
    "std = Student(\"Steve\", 25)\n",
    "print(std.schoolName)  #'XYZ School'\n",
    "print(std.name)  #'Steve'\n",
    "std.age = 20\n",
    "print(std.age)"
   ]
  },
  {
   "cell_type": "markdown",
   "id": "b8ecd30e",
   "metadata": {},
   "source": [
    "### Ejemplo de Protegido"
   ]
  },
  {
   "cell_type": "code",
   "execution_count": 45,
   "id": "1f461684",
   "metadata": {},
   "outputs": [],
   "source": [
    "class Student:\n",
    "    _schoolName = 'XYZ School' # protected class attribute\n",
    "    \n",
    "    def __init__(self, name, age):\n",
    "        self._name=name  # protected instance attribute\n",
    "        self._age=age # protected instance attribute"
   ]
  },
  {
   "cell_type": "code",
   "execution_count": 46,
   "id": "27bf453e",
   "metadata": {},
   "outputs": [
    {
     "name": "stdout",
     "output_type": "stream",
     "text": [
      "Swati\n",
      "Dipa\n"
     ]
    }
   ],
   "source": [
    "std = Student(\"Swati\", 25)\n",
    "print(std._name)  #'Swati'\n",
    "\n",
    "std._name = 'Dipa'\n",
    "print(std._name)  #'Dipa'"
   ]
  },
  {
   "cell_type": "markdown",
   "id": "be83ca56",
   "metadata": {},
   "source": [
    "_Nota: Podemos ver que se pueden acceder los atributos protegidos sin problema, más adelante usaremos `Properties` para hacerlos realmente protegidos_"
   ]
  },
  {
   "cell_type": "markdown",
   "id": "c35f076c",
   "metadata": {},
   "source": [
    "### Ejemplo de Privado"
   ]
  },
  {
   "cell_type": "code",
   "execution_count": 47,
   "id": "6a600f53",
   "metadata": {},
   "outputs": [
    {
     "ename": "AttributeError",
     "evalue": "'Student' object has no attribute '__schoolName'",
     "output_type": "error",
     "traceback": [
      "\u001b[0;31m---------------------------------------------------------------------------\u001b[0m",
      "\u001b[0;31mAttributeError\u001b[0m                            Traceback (most recent call last)",
      "Cell \u001b[0;32mIn[47], line 11\u001b[0m\n\u001b[1;32m      8\u001b[0m         \u001b[38;5;28mprint\u001b[39m(\u001b[38;5;124m'\u001b[39m\u001b[38;5;124mThis is private method.\u001b[39m\u001b[38;5;124m'\u001b[39m)\n\u001b[1;32m     10\u001b[0m std \u001b[38;5;241m=\u001b[39m Student(\u001b[38;5;124m\"\u001b[39m\u001b[38;5;124mBill\u001b[39m\u001b[38;5;124m\"\u001b[39m, \u001b[38;5;241m25\u001b[39m)\n\u001b[0;32m---> 11\u001b[0m \u001b[38;5;28mprint\u001b[39m(\u001b[43mstd\u001b[49m\u001b[38;5;241;43m.\u001b[39;49m\u001b[43m__schoolName\u001b[49m) \u001b[38;5;66;03m#AttributeError\u001b[39;00m\n\u001b[1;32m     12\u001b[0m \u001b[38;5;28mprint\u001b[39m(std\u001b[38;5;241m.\u001b[39m__name)   \u001b[38;5;66;03m#AttributeError\u001b[39;00m\n\u001b[1;32m     13\u001b[0m \u001b[38;5;28mprint\u001b[39m(std\u001b[38;5;241m.\u001b[39m__display())  \u001b[38;5;66;03m#AttributeError\u001b[39;00m\n",
      "\u001b[0;31mAttributeError\u001b[0m: 'Student' object has no attribute '__schoolName'"
     ]
    }
   ],
   "source": [
    "class Student:\n",
    "    __schoolName = 'XYZ School' # private class attribute\n",
    "\n",
    "    def __init__(self, name, age):\n",
    "        self.__name=name  # private instance attribute\n",
    "        self.__salary=age # private instance attribute\n",
    "    def __display(self):  # private method\n",
    "        print('This is private method.')\n",
    "\n",
    "std = Student(\"Bill\", 25)\n",
    "print(std.__schoolName) #AttributeError\n",
    "print(std.__name)   #AttributeError\n",
    "print(std.__display())  #AttributeError"
   ]
  },
  {
   "cell_type": "markdown",
   "id": "8bfa0d4b",
   "metadata": {},
   "source": [
    "## Name Mangling"
   ]
  },
  {
   "cell_type": "code",
   "execution_count": 48,
   "id": "9d8a1045",
   "metadata": {},
   "outputs": [
    {
     "name": "stdout",
     "output_type": "stream",
     "text": [
      "Santhosh\n"
     ]
    },
    {
     "ename": "AttributeError",
     "evalue": "'Student' object has no attribute '__name'",
     "output_type": "error",
     "traceback": [
      "\u001b[0;31m---------------------------------------------------------------------------\u001b[0m",
      "\u001b[0;31mAttributeError\u001b[0m                            Traceback (most recent call last)",
      "Cell \u001b[0;32mIn[48], line 12\u001b[0m\n\u001b[1;32m      9\u001b[0m s1\u001b[38;5;241m.\u001b[39mdisplayName()\n\u001b[1;32m     11\u001b[0m \u001b[38;5;66;03m# Raises an error\u001b[39;00m\n\u001b[0;32m---> 12\u001b[0m \u001b[38;5;28mprint\u001b[39m(\u001b[43ms1\u001b[49m\u001b[38;5;241;43m.\u001b[39;49m\u001b[43m__name\u001b[49m)\n",
      "\u001b[0;31mAttributeError\u001b[0m: 'Student' object has no attribute '__name'"
     ]
    }
   ],
   "source": [
    "class Student:\n",
    "    def __init__(self, name):\n",
    "        self.__name = name\n",
    "  \n",
    "    def displayName(self):\n",
    "        print(self.__name)\n",
    "  \n",
    "s1 = Student(\"Santhosh\")\n",
    "s1.displayName()\n",
    "  \n",
    "# Raises an error\n",
    "print(s1.__name)"
   ]
  },
  {
   "cell_type": "code",
   "execution_count": 51,
   "id": "9cc052fc",
   "metadata": {},
   "outputs": [
    {
     "name": "stdout",
     "output_type": "stream",
     "text": [
      "['_Student__name', '__class__', '__delattr__', '__dict__', '__dir__', '__doc__', '__eq__', '__format__', '__ge__', '__getattribute__', '__getstate__', '__gt__', '__hash__', '__init__', '__init_subclass__', '__le__', '__lt__', '__module__', '__ne__', '__new__', '__reduce__', '__reduce_ex__', '__repr__', '__setattr__', '__sizeof__', '__str__', '__subclasshook__', '__weakref__']\n"
     ]
    }
   ],
   "source": [
    "# Con dir() podemos ver el name mangling process que es hecho en las variables de la clase.\n",
    "\n",
    "class Student:\n",
    "    def __init__(self, name):\n",
    "        self.__name = name\n",
    "  \n",
    "s1 = Student(\"Santhosh\")\n",
    "print(dir(s1))"
   ]
  },
  {
   "cell_type": "code",
   "execution_count": 52,
   "id": "fba52415",
   "metadata": {},
   "outputs": [
    {
     "name": "stdout",
     "output_type": "stream",
     "text": [
      "Santhosh\n"
     ]
    }
   ],
   "source": [
    "class Student:\n",
    "    def __init__(self, name):\n",
    "        self.__name = name\n",
    "  \n",
    "s1 = Student(\"Santhosh\")\n",
    "print(s1._Student__name)"
   ]
  },
  {
   "cell_type": "markdown",
   "id": "34da1910",
   "metadata": {},
   "source": [
    "## Properties"
   ]
  },
  {
   "cell_type": "code",
   "execution_count": 1,
   "id": "a93ce3a2",
   "metadata": {},
   "outputs": [],
   "source": [
    "class Point:\n",
    "    def __init__(self, x, y):\n",
    "        self._x = x\n",
    "        self._y = y\n",
    "\n",
    "    def get_x(self):\n",
    "        return self._x\n",
    "\n",
    "    def set_x(self, value):\n",
    "        self._x = value\n",
    "\n",
    "    def get_y(self):\n",
    "        return self._y\n",
    "\n",
    "    def set_y(self, value):\n",
    "        self._y = value"
   ]
  },
  {
   "cell_type": "code",
   "execution_count": 2,
   "id": "80400cc5",
   "metadata": {},
   "outputs": [],
   "source": [
    "point = Point(5, 9)"
   ]
  },
  {
   "cell_type": "code",
   "execution_count": 3,
   "id": "1663afc4",
   "metadata": {},
   "outputs": [
    {
     "data": {
      "text/plain": [
       "5"
      ]
     },
     "execution_count": 3,
     "metadata": {},
     "output_type": "execute_result"
    }
   ],
   "source": [
    "point.get_x()"
   ]
  },
  {
   "cell_type": "code",
   "execution_count": 4,
   "id": "3dc80522",
   "metadata": {},
   "outputs": [
    {
     "data": {
      "text/plain": [
       "9"
      ]
     },
     "execution_count": 4,
     "metadata": {},
     "output_type": "execute_result"
    }
   ],
   "source": [
    "point.get_y()"
   ]
  },
  {
   "cell_type": "code",
   "execution_count": 5,
   "id": "1b358f1a",
   "metadata": {},
   "outputs": [],
   "source": [
    "point.set_x(8)"
   ]
  },
  {
   "cell_type": "code",
   "execution_count": 6,
   "id": "48cb8995",
   "metadata": {},
   "outputs": [
    {
     "data": {
      "text/plain": [
       "8"
      ]
     },
     "execution_count": 6,
     "metadata": {},
     "output_type": "execute_result"
    }
   ],
   "source": [
    "point.get_x()"
   ]
  },
  {
   "cell_type": "code",
   "execution_count": 7,
   "id": "d523cf19",
   "metadata": {},
   "outputs": [
    {
     "data": {
      "text/plain": [
       "8"
      ]
     },
     "execution_count": 7,
     "metadata": {},
     "output_type": "execute_result"
    }
   ],
   "source": [
    "point._x"
   ]
  },
  {
   "cell_type": "markdown",
   "id": "1d2aa272",
   "metadata": {},
   "source": [
    "### Creando properties con la inicialización de la función `property()`"
   ]
  },
  {
   "cell_type": "code",
   "execution_count": 8,
   "id": "c98e600c",
   "metadata": {},
   "outputs": [],
   "source": [
    "class Circle:\n",
    "    def __init__(self, radius):\n",
    "        self._radius = radius\n",
    "\n",
    "    def _get_radius(self):\n",
    "        print(\"Get radius\")\n",
    "        return self._radius\n",
    "\n",
    "    def _set_radius(self, value):\n",
    "        print(\"Set radius\")\n",
    "        self._radius = value\n",
    "\n",
    "    def _del_radius(self):\n",
    "        print(\"Delete radius\")\n",
    "        del self._radius\n",
    "\n",
    "    radius = property(\n",
    "        fget=_get_radius,\n",
    "        fset=_set_radius,\n",
    "        fdel=_del_radius,\n",
    "        doc=\"The radius property.\"\n",
    "    )"
   ]
  },
  {
   "cell_type": "code",
   "execution_count": 9,
   "id": "c855a93f",
   "metadata": {},
   "outputs": [],
   "source": [
    "circle = Circle(42.0)"
   ]
  },
  {
   "cell_type": "code",
   "execution_count": 10,
   "id": "111d85c6",
   "metadata": {},
   "outputs": [
    {
     "name": "stdout",
     "output_type": "stream",
     "text": [
      "Get radius\n"
     ]
    },
    {
     "data": {
      "text/plain": [
       "42.0"
      ]
     },
     "execution_count": 10,
     "metadata": {},
     "output_type": "execute_result"
    }
   ],
   "source": [
    "circle.radius"
   ]
  },
  {
   "cell_type": "code",
   "execution_count": 11,
   "id": "48fd57ad",
   "metadata": {},
   "outputs": [
    {
     "name": "stdout",
     "output_type": "stream",
     "text": [
      "Set radius\n"
     ]
    }
   ],
   "source": [
    "circle.radius = 50"
   ]
  },
  {
   "cell_type": "code",
   "execution_count": 12,
   "id": "6ab022ae",
   "metadata": {},
   "outputs": [
    {
     "name": "stdout",
     "output_type": "stream",
     "text": [
      "Get radius\n"
     ]
    },
    {
     "data": {
      "text/plain": [
       "50"
      ]
     },
     "execution_count": 12,
     "metadata": {},
     "output_type": "execute_result"
    }
   ],
   "source": [
    "circle.radius"
   ]
  },
  {
   "cell_type": "code",
   "execution_count": 13,
   "id": "85f806cc",
   "metadata": {},
   "outputs": [
    {
     "name": "stdout",
     "output_type": "stream",
     "text": [
      "Delete radius\n"
     ]
    }
   ],
   "source": [
    "del circle.radius"
   ]
  },
  {
   "cell_type": "code",
   "execution_count": 14,
   "id": "5b832cb7",
   "metadata": {},
   "outputs": [
    {
     "ename": "NameError",
     "evalue": "name 'cicle' is not defined",
     "output_type": "error",
     "traceback": [
      "\u001b[0;31m---------------------------------------------------------------------------\u001b[0m",
      "\u001b[0;31mNameError\u001b[0m                                 Traceback (most recent call last)",
      "Cell \u001b[0;32mIn[14], line 1\u001b[0m\n\u001b[0;32m----> 1\u001b[0m \u001b[43mcicle\u001b[49m\u001b[38;5;241m.\u001b[39mradius\n",
      "\u001b[0;31mNameError\u001b[0m: name 'cicle' is not defined"
     ]
    }
   ],
   "source": [
    "cicle.radius"
   ]
  },
  {
   "cell_type": "markdown",
   "id": "f9387ac7",
   "metadata": {},
   "source": [
    "### Usando `property()` como decorador"
   ]
  },
  {
   "cell_type": "code",
   "execution_count": 15,
   "id": "3015e3ab",
   "metadata": {},
   "outputs": [],
   "source": [
    "class Circle:\n",
    "    def __init__(self, radius):\n",
    "        self._radius = radius\n",
    "\n",
    "    @property\n",
    "    def radius(self):\n",
    "        \"\"\"The radius property.\"\"\"\n",
    "        print(\"Get radius\")\n",
    "        return self._radius\n",
    "\n",
    "    @radius.setter\n",
    "    def radius(self, value):\n",
    "        print(\"Set radius\")\n",
    "        self._radius = value\n",
    "\n",
    "    @radius.deleter\n",
    "    def radius(self):\n",
    "        print(\"Delete radius\")\n",
    "        del self._radius"
   ]
  },
  {
   "cell_type": "code",
   "execution_count": 16,
   "id": "3bb92fdf",
   "metadata": {},
   "outputs": [],
   "source": [
    "circle = Circle(42.0)"
   ]
  },
  {
   "cell_type": "code",
   "execution_count": 17,
   "id": "76e0aa48",
   "metadata": {},
   "outputs": [
    {
     "name": "stdout",
     "output_type": "stream",
     "text": [
      "Get radius\n"
     ]
    },
    {
     "data": {
      "text/plain": [
       "42.0"
      ]
     },
     "execution_count": 17,
     "metadata": {},
     "output_type": "execute_result"
    }
   ],
   "source": [
    "circle.radius"
   ]
  },
  {
   "cell_type": "code",
   "execution_count": 18,
   "id": "c8f17fb7",
   "metadata": {},
   "outputs": [
    {
     "name": "stdout",
     "output_type": "stream",
     "text": [
      "Set radius\n"
     ]
    }
   ],
   "source": [
    "circle.radius = 50"
   ]
  },
  {
   "cell_type": "code",
   "execution_count": 19,
   "id": "65fb3afe",
   "metadata": {},
   "outputs": [
    {
     "name": "stdout",
     "output_type": "stream",
     "text": [
      "Get radius\n"
     ]
    },
    {
     "data": {
      "text/plain": [
       "50"
      ]
     },
     "execution_count": 19,
     "metadata": {},
     "output_type": "execute_result"
    }
   ],
   "source": [
    "circle.radius"
   ]
  },
  {
   "cell_type": "code",
   "execution_count": 20,
   "id": "90a5e87f",
   "metadata": {},
   "outputs": [
    {
     "name": "stdout",
     "output_type": "stream",
     "text": [
      "Delete radius\n"
     ]
    }
   ],
   "source": [
    "del circle.radius"
   ]
  },
  {
   "cell_type": "code",
   "execution_count": 21,
   "id": "be450175",
   "metadata": {},
   "outputs": [
    {
     "ename": "NameError",
     "evalue": "name 'cicle' is not defined",
     "output_type": "error",
     "traceback": [
      "\u001b[0;31m---------------------------------------------------------------------------\u001b[0m",
      "\u001b[0;31mNameError\u001b[0m                                 Traceback (most recent call last)",
      "Cell \u001b[0;32mIn[21], line 1\u001b[0m\n\u001b[0;32m----> 1\u001b[0m \u001b[43mcicle\u001b[49m\u001b[38;5;241m.\u001b[39mradius\n",
      "\u001b[0;31mNameError\u001b[0m: name 'cicle' is not defined"
     ]
    }
   ],
   "source": [
    "cicle.radius"
   ]
  },
  {
   "cell_type": "markdown",
   "id": "73d4ea20",
   "metadata": {},
   "source": [
    "### Creando atributos de solo lectura"
   ]
  },
  {
   "cell_type": "code",
   "execution_count": 22,
   "id": "997587c0",
   "metadata": {},
   "outputs": [],
   "source": [
    "class Point:\n",
    "    def __init__(self, x, y):\n",
    "        self._x = x\n",
    "        self._y = y\n",
    "\n",
    "    @property\n",
    "    def x(self):\n",
    "        return self._x\n",
    "\n",
    "    @property\n",
    "    def y(self):\n",
    "        return self._y"
   ]
  },
  {
   "cell_type": "code",
   "execution_count": 23,
   "id": "4eec51d3",
   "metadata": {},
   "outputs": [],
   "source": [
    "point = Point(12, 5)"
   ]
  },
  {
   "cell_type": "code",
   "execution_count": 24,
   "id": "747d9ada",
   "metadata": {},
   "outputs": [
    {
     "data": {
      "text/plain": [
       "12"
      ]
     },
     "execution_count": 24,
     "metadata": {},
     "output_type": "execute_result"
    }
   ],
   "source": [
    "point.x"
   ]
  },
  {
   "cell_type": "code",
   "execution_count": 25,
   "id": "89dd6776",
   "metadata": {},
   "outputs": [
    {
     "data": {
      "text/plain": [
       "5"
      ]
     },
     "execution_count": 25,
     "metadata": {},
     "output_type": "execute_result"
    }
   ],
   "source": [
    "point.y"
   ]
  },
  {
   "cell_type": "code",
   "execution_count": 26,
   "id": "012c798d",
   "metadata": {},
   "outputs": [
    {
     "ename": "AttributeError",
     "evalue": "property 'x' of 'Point' object has no setter",
     "output_type": "error",
     "traceback": [
      "\u001b[0;31m---------------------------------------------------------------------------\u001b[0m",
      "\u001b[0;31mAttributeError\u001b[0m                            Traceback (most recent call last)",
      "Cell \u001b[0;32mIn[26], line 1\u001b[0m\n\u001b[0;32m----> 1\u001b[0m \u001b[43mpoint\u001b[49m\u001b[38;5;241;43m.\u001b[39;49m\u001b[43mx\u001b[49m \u001b[38;5;241m=\u001b[39m \u001b[38;5;241m10\u001b[39m\n",
      "\u001b[0;31mAttributeError\u001b[0m: property 'x' of 'Point' object has no setter"
     ]
    }
   ],
   "source": [
    "point.x = 10"
   ]
  },
  {
   "cell_type": "markdown",
   "id": "a01e1c96",
   "metadata": {},
   "source": [
    "### Creando atributos de solo escritura"
   ]
  },
  {
   "cell_type": "code",
   "execution_count": 27,
   "id": "21c79fb2",
   "metadata": {},
   "outputs": [],
   "source": [
    "import hashlib\n",
    "import os\n",
    "\n",
    "class User:\n",
    "    def __init__(self, name, password):\n",
    "        self.name = name\n",
    "        self.password = password\n",
    "\n",
    "    @property\n",
    "    def password(self):\n",
    "        raise AttributeError(\"Password is write-only\")\n",
    "\n",
    "    @password.setter\n",
    "    def password(self, plaintext):\n",
    "        salt = os.urandom(32)\n",
    "        self._hashed_password = hashlib.pbkdf2_hmac(\n",
    "            \"sha256\", plaintext.encode(\"utf-8\"), salt, 100_000\n",
    "        )"
   ]
  },
  {
   "cell_type": "code",
   "execution_count": 28,
   "id": "fbc22df8",
   "metadata": {},
   "outputs": [],
   "source": [
    "user = User(\"Carolina\", \"secure_password\")"
   ]
  },
  {
   "cell_type": "code",
   "execution_count": 29,
   "id": "86409825",
   "metadata": {},
   "outputs": [
    {
     "ename": "AttributeError",
     "evalue": "Password is write-only",
     "output_type": "error",
     "traceback": [
      "\u001b[0;31m---------------------------------------------------------------------------\u001b[0m",
      "\u001b[0;31mAttributeError\u001b[0m                            Traceback (most recent call last)",
      "Cell \u001b[0;32mIn[29], line 1\u001b[0m\n\u001b[0;32m----> 1\u001b[0m \u001b[43muser\u001b[49m\u001b[38;5;241;43m.\u001b[39;49m\u001b[43mpassword\u001b[49m\n",
      "Cell \u001b[0;32mIn[27], line 11\u001b[0m, in \u001b[0;36mUser.password\u001b[0;34m(self)\u001b[0m\n\u001b[1;32m      9\u001b[0m \u001b[38;5;129m@property\u001b[39m\n\u001b[1;32m     10\u001b[0m \u001b[38;5;28;01mdef\u001b[39;00m \u001b[38;5;21mpassword\u001b[39m(\u001b[38;5;28mself\u001b[39m):\n\u001b[0;32m---> 11\u001b[0m     \u001b[38;5;28;01mraise\u001b[39;00m \u001b[38;5;167;01mAttributeError\u001b[39;00m(\u001b[38;5;124m\"\u001b[39m\u001b[38;5;124mPassword is write-only\u001b[39m\u001b[38;5;124m\"\u001b[39m)\n",
      "\u001b[0;31mAttributeError\u001b[0m: Password is write-only"
     ]
    }
   ],
   "source": [
    "user.password"
   ]
  },
  {
   "cell_type": "code",
   "execution_count": 30,
   "id": "cb540b5b",
   "metadata": {},
   "outputs": [],
   "source": [
    "user.password = \"another_Secure_password\""
   ]
  },
  {
   "cell_type": "markdown",
   "id": "095761d0",
   "metadata": {},
   "source": [
    "## Algunos casos de uso de las `properties()`"
   ]
  },
  {
   "cell_type": "markdown",
   "id": "40c29015",
   "metadata": {},
   "source": [
    "### 1. Validando atributos"
   ]
  },
  {
   "cell_type": "code",
   "execution_count": 31,
   "id": "7aa62900",
   "metadata": {},
   "outputs": [],
   "source": [
    "class Point:\n",
    "    def __init__(self, x, y):\n",
    "        self.x = x\n",
    "        self.y = y\n",
    "\n",
    "    @property\n",
    "    def x(self):\n",
    "        return self._x\n",
    "\n",
    "    @x.setter\n",
    "    def x(self, value):\n",
    "        try:\n",
    "            self._x = float(value)\n",
    "            print(\"Validated!\")\n",
    "        except ValueError:\n",
    "            raise ValueError('\"x\" must be a number') from None\n",
    "\n",
    "    @property\n",
    "    def y(self):\n",
    "        return self._y\n",
    "\n",
    "    @y.setter\n",
    "    def y(self, value):\n",
    "        try:\n",
    "            self._y = float(value)\n",
    "            print(\"Validated!\")\n",
    "        except ValueError:\n",
    "            raise ValueError('\"y\" must be a number') from None"
   ]
  },
  {
   "cell_type": "code",
   "execution_count": 32,
   "id": "9eedc18b",
   "metadata": {},
   "outputs": [
    {
     "name": "stdout",
     "output_type": "stream",
     "text": [
      "Validated!\n",
      "Validated!\n"
     ]
    }
   ],
   "source": [
    "point = Point(2, 5)"
   ]
  },
  {
   "cell_type": "code",
   "execution_count": 33,
   "id": "85f00f39",
   "metadata": {},
   "outputs": [
    {
     "ename": "ValueError",
     "evalue": "\"x\" must be a number",
     "output_type": "error",
     "traceback": [
      "\u001b[0;31m---------------------------------------------------------------------------\u001b[0m",
      "\u001b[0;31mValueError\u001b[0m                                Traceback (most recent call last)",
      "Cell \u001b[0;32mIn[33], line 1\u001b[0m\n\u001b[0;32m----> 1\u001b[0m \u001b[43mpoint\u001b[49m\u001b[38;5;241;43m.\u001b[39;49m\u001b[43mx\u001b[49m \u001b[38;5;241m=\u001b[39m \u001b[38;5;124m\"\u001b[39m\u001b[38;5;124mhola\u001b[39m\u001b[38;5;124m\"\u001b[39m\n",
      "Cell \u001b[0;32mIn[31], line 16\u001b[0m, in \u001b[0;36mPoint.x\u001b[0;34m(self, value)\u001b[0m\n\u001b[1;32m     14\u001b[0m     \u001b[38;5;28mprint\u001b[39m(\u001b[38;5;124m\"\u001b[39m\u001b[38;5;124mValidated!\u001b[39m\u001b[38;5;124m\"\u001b[39m)\n\u001b[1;32m     15\u001b[0m \u001b[38;5;28;01mexcept\u001b[39;00m \u001b[38;5;167;01mValueError\u001b[39;00m:\n\u001b[0;32m---> 16\u001b[0m     \u001b[38;5;28;01mraise\u001b[39;00m \u001b[38;5;167;01mValueError\u001b[39;00m(\u001b[38;5;124m'\u001b[39m\u001b[38;5;124m\"\u001b[39m\u001b[38;5;124mx\u001b[39m\u001b[38;5;124m\"\u001b[39m\u001b[38;5;124m must be a number\u001b[39m\u001b[38;5;124m'\u001b[39m) \u001b[38;5;28;01mfrom\u001b[39;00m \u001b[38;5;28;01mNone\u001b[39;00m\n",
      "\u001b[0;31mValueError\u001b[0m: \"x\" must be a number"
     ]
    }
   ],
   "source": [
    "point.x = \"hola\""
   ]
  },
  {
   "cell_type": "markdown",
   "id": "d5e8b026",
   "metadata": {},
   "source": [
    "### 2. Para agregar atributos que requieren algún calculo"
   ]
  },
  {
   "cell_type": "code",
   "execution_count": 34,
   "id": "63adb571",
   "metadata": {},
   "outputs": [],
   "source": [
    "class Rectangle:\n",
    "    def __init__(self, width, height):\n",
    "        self.width = width\n",
    "        self.height = height\n",
    "\n",
    "    @property\n",
    "    def area(self):\n",
    "        return self.width * self.height"
   ]
  },
  {
   "cell_type": "code",
   "execution_count": 35,
   "id": "c2efbe7f",
   "metadata": {},
   "outputs": [],
   "source": [
    "rectangle = Rectangle(30, 50)"
   ]
  },
  {
   "cell_type": "code",
   "execution_count": 36,
   "id": "7dda5398",
   "metadata": {},
   "outputs": [
    {
     "data": {
      "text/plain": [
       "1500"
      ]
     },
     "execution_count": 36,
     "metadata": {},
     "output_type": "execute_result"
    }
   ],
   "source": [
    "rectangle.area"
   ]
  },
  {
   "cell_type": "markdown",
   "id": "b46c56e9",
   "metadata": {},
   "source": [
    "## Métodos de instancia, métodos de clase y métodos estáticos"
   ]
  },
  {
   "cell_type": "code",
   "execution_count": 53,
   "id": "d678a83b",
   "metadata": {},
   "outputs": [],
   "source": [
    "class MyClass:\n",
    "    def method(self):\n",
    "        \"\"\" Instance method \"\"\"\n",
    "        return 'instance method called', self\n",
    "\n",
    "    @classmethod\n",
    "    def class_method(cls):\n",
    "        \"\"\" Class method \"\"\"\n",
    "        return 'class method called', cls\n",
    "\n",
    "    @staticmethod\n",
    "    def static_method():\n",
    "        \"\"\" Static method \"\"\"\n",
    "        return 'static method called'"
   ]
  },
  {
   "cell_type": "code",
   "execution_count": 54,
   "id": "736f527f",
   "metadata": {},
   "outputs": [],
   "source": [
    "obj = MyClass()"
   ]
  },
  {
   "cell_type": "code",
   "execution_count": 55,
   "id": "6ada561d",
   "metadata": {},
   "outputs": [
    {
     "data": {
      "text/plain": [
       "('instance method called', <__main__.MyClass at 0x1077c7210>)"
      ]
     },
     "execution_count": 55,
     "metadata": {},
     "output_type": "execute_result"
    }
   ],
   "source": [
    "obj.method()"
   ]
  },
  {
   "cell_type": "code",
   "execution_count": 56,
   "id": "df120922",
   "metadata": {},
   "outputs": [
    {
     "data": {
      "text/plain": [
       "('instance method called', <__main__.MyClass at 0x1077c7210>)"
      ]
     },
     "execution_count": 56,
     "metadata": {},
     "output_type": "execute_result"
    }
   ],
   "source": [
    "MyClass.method(obj)"
   ]
  },
  {
   "cell_type": "code",
   "execution_count": 57,
   "id": "6ecdb6da",
   "metadata": {},
   "outputs": [
    {
     "data": {
      "text/plain": [
       "('class method called', __main__.MyClass)"
      ]
     },
     "execution_count": 57,
     "metadata": {},
     "output_type": "execute_result"
    }
   ],
   "source": [
    "obj.class_method()"
   ]
  },
  {
   "cell_type": "code",
   "execution_count": 58,
   "id": "607e0a96",
   "metadata": {},
   "outputs": [
    {
     "data": {
      "text/plain": [
       "'static method called'"
      ]
     },
     "execution_count": 58,
     "metadata": {},
     "output_type": "execute_result"
    }
   ],
   "source": [
    "obj.static_method()"
   ]
  },
  {
   "cell_type": "markdown",
   "id": "3ab58a7f",
   "metadata": {},
   "source": [
    "### ¿Qué pasa si accedemos a los metodos sin instanciar un objeto de la clase?"
   ]
  },
  {
   "cell_type": "code",
   "execution_count": 59,
   "id": "a51aa531",
   "metadata": {},
   "outputs": [
    {
     "data": {
      "text/plain": [
       "('class method called', __main__.MyClass)"
      ]
     },
     "execution_count": 59,
     "metadata": {},
     "output_type": "execute_result"
    }
   ],
   "source": [
    "MyClass.class_method()"
   ]
  },
  {
   "cell_type": "code",
   "execution_count": 60,
   "id": "043d256b",
   "metadata": {},
   "outputs": [
    {
     "data": {
      "text/plain": [
       "'static method called'"
      ]
     },
     "execution_count": 60,
     "metadata": {},
     "output_type": "execute_result"
    }
   ],
   "source": [
    "MyClass.static_method()"
   ]
  },
  {
   "cell_type": "code",
   "execution_count": 61,
   "id": "370a74c5",
   "metadata": {},
   "outputs": [
    {
     "ename": "TypeError",
     "evalue": "MyClass.method() missing 1 required positional argument: 'self'",
     "output_type": "error",
     "traceback": [
      "\u001b[0;31m---------------------------------------------------------------------------\u001b[0m",
      "\u001b[0;31mTypeError\u001b[0m                                 Traceback (most recent call last)",
      "Cell \u001b[0;32mIn[61], line 1\u001b[0m\n\u001b[0;32m----> 1\u001b[0m \u001b[43mMyClass\u001b[49m\u001b[38;5;241;43m.\u001b[39;49m\u001b[43mmethod\u001b[49m\u001b[43m(\u001b[49m\u001b[43m)\u001b[49m\n",
      "\u001b[0;31mTypeError\u001b[0m: MyClass.method() missing 1 required positional argument: 'self'"
     ]
    }
   ],
   "source": [
    "MyClass.method()"
   ]
  },
  {
   "cell_type": "markdown",
   "id": "f14b3f59",
   "metadata": {},
   "source": [
    "### Ejemplos de uso"
   ]
  },
  {
   "cell_type": "code",
   "execution_count": 62,
   "id": "fe9e7a2c",
   "metadata": {},
   "outputs": [],
   "source": [
    "class Pizza:\n",
    "    def __init__(self, ingredients):\n",
    "        self.ingredients = ingredients\n",
    "\n",
    "    def __repr__(self):\n",
    "        return f'Pizza({self.ingredients})'"
   ]
  },
  {
   "cell_type": "code",
   "execution_count": 63,
   "id": "1ccd2aa5",
   "metadata": {},
   "outputs": [],
   "source": [
    "margherita = Pizza(['mozzarella', 'tomatoes'])\n",
    "cheese = Pizza(['mozzarella', 'provolone', 'cheddar', 'Parmesan'])"
   ]
  },
  {
   "cell_type": "code",
   "execution_count": 64,
   "id": "fd95a920",
   "metadata": {},
   "outputs": [
    {
     "data": {
      "text/plain": [
       "Pizza(['mozzarella', 'tomatoes'])"
      ]
     },
     "execution_count": 64,
     "metadata": {},
     "output_type": "execute_result"
    }
   ],
   "source": [
    "margherita"
   ]
  },
  {
   "cell_type": "code",
   "execution_count": 65,
   "id": "410f8df3",
   "metadata": {},
   "outputs": [
    {
     "data": {
      "text/plain": [
       "Pizza(['mozzarella', 'provolone', 'cheddar', 'Parmesan'])"
      ]
     },
     "execution_count": 65,
     "metadata": {},
     "output_type": "execute_result"
    }
   ],
   "source": [
    "cheese"
   ]
  },
  {
   "cell_type": "code",
   "execution_count": 66,
   "id": "3d682234",
   "metadata": {},
   "outputs": [],
   "source": [
    "class Pizza:\n",
    "    def __init__(self, ingredients):\n",
    "        self.ingredients = ingredients\n",
    "\n",
    "    def __repr__(self):\n",
    "        return f'Pizza({self.ingredients})'\n",
    "    \n",
    "    def create_custom_pizza(self, ingredients):\n",
    "        self.ingredients = ingredients\n",
    "        return self\n",
    "\n",
    "    @classmethod\n",
    "    def margherita(cls):\n",
    "        return cls(['mozzarella', 'tomatoes'])\n",
    "\n",
    "    @classmethod\n",
    "    def cheese(cls):\n",
    "        return cls(['mozzarella', 'provolone', 'cheddar', 'Parmesan'])"
   ]
  },
  {
   "cell_type": "code",
   "execution_count": 67,
   "id": "3ef0121b",
   "metadata": {},
   "outputs": [
    {
     "data": {
      "text/plain": [
       "Pizza(['mozzarella', 'tomatoes'])"
      ]
     },
     "execution_count": 67,
     "metadata": {},
     "output_type": "execute_result"
    }
   ],
   "source": [
    "Pizza.margherita()"
   ]
  },
  {
   "cell_type": "code",
   "execution_count": 68,
   "id": "51c95c2b",
   "metadata": {},
   "outputs": [
    {
     "data": {
      "text/plain": [
       "Pizza(['mozzarella', 'provolone', 'cheddar', 'Parmesan'])"
      ]
     },
     "execution_count": 68,
     "metadata": {},
     "output_type": "execute_result"
    }
   ],
   "source": [
    "Pizza.cheese()"
   ]
  },
  {
   "cell_type": "code",
   "execution_count": 69,
   "id": "e4b5d1b7",
   "metadata": {},
   "outputs": [],
   "source": [
    "first_pizza = Pizza([])"
   ]
  },
  {
   "cell_type": "code",
   "execution_count": 70,
   "id": "21e97c5a",
   "metadata": {},
   "outputs": [
    {
     "data": {
      "text/plain": [
       "[]"
      ]
     },
     "execution_count": 70,
     "metadata": {},
     "output_type": "execute_result"
    }
   ],
   "source": [
    "first_pizza.ingredients"
   ]
  },
  {
   "cell_type": "code",
   "execution_count": 71,
   "id": "b990e33c",
   "metadata": {},
   "outputs": [
    {
     "data": {
      "text/plain": [
       "Pizza(['chicken', 'mozzarella'])"
      ]
     },
     "execution_count": 71,
     "metadata": {},
     "output_type": "execute_result"
    }
   ],
   "source": [
    "first_pizza.create_custom_pizza(['chicken', 'mozzarella'])"
   ]
  },
  {
   "cell_type": "code",
   "execution_count": 74,
   "id": "5d3c62b3",
   "metadata": {},
   "outputs": [
    {
     "data": {
      "text/plain": [
       "Pizza(['mozzarella', 'tomatoes'])"
      ]
     },
     "execution_count": 74,
     "metadata": {},
     "output_type": "execute_result"
    }
   ],
   "source": [
    "# Podemos mostrar los metodos de clase asociados a la clase Pizza sin cambiar el comportamiento de la instancia\n",
    "first_pizza.margherita()"
   ]
  },
  {
   "cell_type": "code",
   "execution_count": 73,
   "id": "e2c0f84c",
   "metadata": {},
   "outputs": [
    {
     "data": {
      "text/plain": [
       "['chicken', 'mozzarella']"
      ]
     },
     "execution_count": 73,
     "metadata": {},
     "output_type": "execute_result"
    }
   ],
   "source": [
    "first_pizza.ingredients"
   ]
  },
  {
   "cell_type": "code",
   "execution_count": 75,
   "id": "a8d9dd4d",
   "metadata": {},
   "outputs": [],
   "source": [
    "# Usando metodos estáticos\n",
    "import math\n",
    "\n",
    "class Pizza:\n",
    "    def __init__(self, radius, ingredients):\n",
    "        self.radius = radius\n",
    "        self.ingredients = ingredients\n",
    "\n",
    "    def __repr__(self):\n",
    "        return (f'Pizza({self.radius}, '\n",
    "                f'{self.ingredients})')\n",
    "\n",
    "    def area(self):\n",
    "        return self.circle_area(self.radius)\n",
    "\n",
    "    @staticmethod\n",
    "    def circle_area(r):\n",
    "        return r ** 2 * math.pi"
   ]
  },
  {
   "cell_type": "code",
   "execution_count": 76,
   "id": "89c9591d",
   "metadata": {},
   "outputs": [],
   "source": [
    "p = Pizza(4, ['mozzarella', 'tomatoes'])"
   ]
  },
  {
   "cell_type": "code",
   "execution_count": 77,
   "id": "a9f136b6",
   "metadata": {},
   "outputs": [
    {
     "data": {
      "text/plain": [
       "50.26548245743669"
      ]
     },
     "execution_count": 77,
     "metadata": {},
     "output_type": "execute_result"
    }
   ],
   "source": [
    "p.area()"
   ]
  },
  {
   "cell_type": "code",
   "execution_count": 78,
   "id": "4035180f",
   "metadata": {},
   "outputs": [
    {
     "data": {
      "text/plain": [
       "50.26548245743669"
      ]
     },
     "execution_count": 78,
     "metadata": {},
     "output_type": "execute_result"
    }
   ],
   "source": [
    "Pizza.circle_area(4)"
   ]
  },
  {
   "cell_type": "code",
   "execution_count": 79,
   "id": "5138f24c",
   "metadata": {},
   "outputs": [
    {
     "data": {
      "text/plain": [
       "78.53981633974483"
      ]
     },
     "execution_count": 79,
     "metadata": {},
     "output_type": "execute_result"
    }
   ],
   "source": [
    "Pizza.circle_area(5)"
   ]
  },
  {
   "cell_type": "code",
   "execution_count": 80,
   "id": "6d23fff6",
   "metadata": {},
   "outputs": [
    {
     "data": {
      "text/plain": [
       "50.26548245743669"
      ]
     },
     "execution_count": 80,
     "metadata": {},
     "output_type": "execute_result"
    }
   ],
   "source": [
    "p.area()"
   ]
  },
  {
   "cell_type": "markdown",
   "id": "c3869f91",
   "metadata": {},
   "source": [
    "## Dataclasses"
   ]
  },
  {
   "cell_type": "code",
   "execution_count": 84,
   "id": "8902adf7",
   "metadata": {},
   "outputs": [],
   "source": [
    "from dataclasses import dataclass\n",
    "\n",
    "@dataclass\n",
    "class Position:\n",
    "    name: str\n",
    "    lon: float\n",
    "    lat: float"
   ]
  },
  {
   "cell_type": "code",
   "execution_count": 85,
   "id": "902c2a7f",
   "metadata": {},
   "outputs": [],
   "source": [
    "pos = Position('Oslo', 10.8, 59.9)"
   ]
  },
  {
   "cell_type": "code",
   "execution_count": 86,
   "id": "8f702ff6",
   "metadata": {},
   "outputs": [
    {
     "name": "stdout",
     "output_type": "stream",
     "text": [
      "Position(name='Oslo', lon=10.8, lat=59.9)\n"
     ]
    }
   ],
   "source": [
    "print(pos)"
   ]
  },
  {
   "cell_type": "code",
   "execution_count": 87,
   "id": "b9692688",
   "metadata": {},
   "outputs": [
    {
     "data": {
      "text/plain": [
       "59.9"
      ]
     },
     "execution_count": 87,
     "metadata": {},
     "output_type": "execute_result"
    }
   ],
   "source": [
    "pos.lat"
   ]
  },
  {
   "cell_type": "markdown",
   "id": "27aff2a4",
   "metadata": {},
   "source": [
    "### Agregando valores por defecto"
   ]
  },
  {
   "cell_type": "code",
   "execution_count": 88,
   "id": "d2693965",
   "metadata": {},
   "outputs": [],
   "source": [
    "from dataclasses import dataclass\n",
    "\n",
    "@dataclass\n",
    "class Position:\n",
    "    name: str\n",
    "    lon: float = 0.0\n",
    "    lat: float = 0.0"
   ]
  },
  {
   "cell_type": "code",
   "execution_count": 89,
   "id": "37a9bf1f",
   "metadata": {},
   "outputs": [
    {
     "data": {
      "text/plain": [
       "Position(name='Null Island', lon=0.0, lat=0.0)"
      ]
     },
     "execution_count": 89,
     "metadata": {},
     "output_type": "execute_result"
    }
   ],
   "source": [
    "Position('Null Island')"
   ]
  },
  {
   "cell_type": "code",
   "execution_count": 90,
   "id": "c20a223d",
   "metadata": {},
   "outputs": [
    {
     "data": {
      "text/plain": [
       "Position(name='Greenwich', lon=0.0, lat=51.8)"
      ]
     },
     "execution_count": 90,
     "metadata": {},
     "output_type": "execute_result"
    }
   ],
   "source": [
    "Position('Greenwich', lat=51.8)"
   ]
  },
  {
   "cell_type": "code",
   "execution_count": 91,
   "id": "4e4d288f",
   "metadata": {},
   "outputs": [
    {
     "data": {
      "text/plain": [
       "Position(name='Vancouver', lon=-123.1, lat=49.3)"
      ]
     },
     "execution_count": 91,
     "metadata": {},
     "output_type": "execute_result"
    }
   ],
   "source": [
    "Position('Vancouver', -123.1, 49.3)"
   ]
  },
  {
   "cell_type": "markdown",
   "id": "d31231df",
   "metadata": {},
   "source": [
    "### Agregando metodos a data classes"
   ]
  },
  {
   "cell_type": "code",
   "execution_count": 92,
   "id": "9ff784d2",
   "metadata": {},
   "outputs": [],
   "source": [
    "from dataclasses import dataclass\n",
    "from math import asin, cos, radians, sin, sqrt\n",
    "\n",
    "@dataclass\n",
    "class Position:\n",
    "    name: str\n",
    "    lon: float = 0.0\n",
    "    lat: float = 0.0\n",
    "\n",
    "    def distance_to(self, other):\n",
    "        r = 6371  # Earth radius in kilometers\n",
    "        lam_1, lam_2 = radians(self.lon), radians(other.lon)\n",
    "        phi_1, phi_2 = radians(self.lat), radians(other.lat)\n",
    "        h = (sin((phi_2 - phi_1) / 2)**2\n",
    "             + cos(phi_1) * cos(phi_2) * sin((lam_2 - lam_1) / 2)**2)\n",
    "        return 2 * r * asin(sqrt(h))"
   ]
  },
  {
   "cell_type": "code",
   "execution_count": 93,
   "id": "0f462858",
   "metadata": {},
   "outputs": [],
   "source": [
    "oslo = Position('Oslo', 10.8, 59.9)"
   ]
  },
  {
   "cell_type": "code",
   "execution_count": 94,
   "id": "2b8f4df5",
   "metadata": {},
   "outputs": [],
   "source": [
    "vancouver = Position('Vancouver', -123.1, 49.3)"
   ]
  },
  {
   "cell_type": "code",
   "execution_count": 95,
   "id": "5e773a3c",
   "metadata": {},
   "outputs": [
    {
     "data": {
      "text/plain": [
       "7181.784122942117"
      ]
     },
     "execution_count": 95,
     "metadata": {},
     "output_type": "execute_result"
    }
   ],
   "source": [
    "oslo.distance_to(vancouver)"
   ]
  },
  {
   "cell_type": "markdown",
   "id": "aa9fa3d5",
   "metadata": {},
   "source": [
    "### Clases inmutables"
   ]
  },
  {
   "cell_type": "code",
   "execution_count": 96,
   "id": "3ca7120c",
   "metadata": {},
   "outputs": [],
   "source": [
    "from dataclasses import dataclass\n",
    "\n",
    "@dataclass(frozen=True)\n",
    "class Position:\n",
    "    name: str\n",
    "    lon: float = 0.0\n",
    "    lat: float = 0.0"
   ]
  },
  {
   "cell_type": "code",
   "execution_count": 97,
   "id": "dbaa4255",
   "metadata": {},
   "outputs": [],
   "source": [
    "pos = Position('Oslo', 10.8, 59.9)"
   ]
  },
  {
   "cell_type": "code",
   "execution_count": 98,
   "id": "9d96dcad",
   "metadata": {},
   "outputs": [
    {
     "data": {
      "text/plain": [
       "'Oslo'"
      ]
     },
     "execution_count": 98,
     "metadata": {},
     "output_type": "execute_result"
    }
   ],
   "source": [
    "pos.name"
   ]
  },
  {
   "cell_type": "code",
   "execution_count": 99,
   "id": "6753bb97",
   "metadata": {},
   "outputs": [
    {
     "ename": "FrozenInstanceError",
     "evalue": "cannot assign to field 'name'",
     "output_type": "error",
     "traceback": [
      "\u001b[0;31m---------------------------------------------------------------------------\u001b[0m",
      "\u001b[0;31mFrozenInstanceError\u001b[0m                       Traceback (most recent call last)",
      "Cell \u001b[0;32mIn[99], line 1\u001b[0m\n\u001b[0;32m----> 1\u001b[0m \u001b[43mpos\u001b[49m\u001b[38;5;241;43m.\u001b[39;49m\u001b[43mname\u001b[49m \u001b[38;5;241m=\u001b[39m \u001b[38;5;124m'\u001b[39m\u001b[38;5;124mStockholm\u001b[39m\u001b[38;5;124m'\u001b[39m\n",
      "File \u001b[0;32m<string>:4\u001b[0m, in \u001b[0;36m__setattr__\u001b[0;34m(self, name, value)\u001b[0m\n",
      "\u001b[0;31mFrozenInstanceError\u001b[0m: cannot assign to field 'name'"
     ]
    }
   ],
   "source": [
    "pos.name = 'Stockholm'"
   ]
  },
  {
   "cell_type": "markdown",
   "id": "a5591f2b",
   "metadata": {},
   "source": [
    "### Herencia"
   ]
  },
  {
   "cell_type": "code",
   "execution_count": 100,
   "id": "0dcd084e",
   "metadata": {},
   "outputs": [],
   "source": [
    "from dataclasses import dataclass\n",
    "\n",
    "@dataclass\n",
    "class Position:\n",
    "    name: str\n",
    "    lon: float\n",
    "    lat: float\n",
    "\n",
    "@dataclass\n",
    "class Capital(Position):\n",
    "    country: str"
   ]
  },
  {
   "cell_type": "code",
   "execution_count": 101,
   "id": "4b38af03",
   "metadata": {},
   "outputs": [
    {
     "data": {
      "text/plain": [
       "Capital(name='Oslo', lon=10.8, lat=59.9, country='Norway')"
      ]
     },
     "execution_count": 101,
     "metadata": {},
     "output_type": "execute_result"
    }
   ],
   "source": [
    "Capital('Oslo', 10.8, 59.9, 'Norway')"
   ]
  },
  {
   "cell_type": "code",
   "execution_count": null,
   "id": "fc69c696",
   "metadata": {},
   "outputs": [],
   "source": []
  }
 ],
 "metadata": {
  "kernelspec": {
   "display_name": "Python 3 (ipykernel)",
   "language": "python",
   "name": "python3"
  },
  "language_info": {
   "codemirror_mode": {
    "name": "ipython",
    "version": 3
   },
   "file_extension": ".py",
   "mimetype": "text/x-python",
   "name": "python",
   "nbconvert_exporter": "python",
   "pygments_lexer": "ipython3",
   "version": "3.11.3"
  }
 },
 "nbformat": 4,
 "nbformat_minor": 5
}
